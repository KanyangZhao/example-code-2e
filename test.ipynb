{
 "cells": [
  {
   "cell_type": "code",
   "execution_count": 9,
   "metadata": {},
   "outputs": [
    {
     "name": "stdout",
     "output_type": "stream",
     "text": [
      "__setattr__\n",
      "__getattribute__\n",
      "True\n",
      "__getattribute__\n",
      "__getattr__\n",
      "__delattr__\n"
     ]
    }
   ],
   "source": [
    "class Access(object):\n",
    "\n",
    "    def __getattr__(self, name):\n",
    "        '''\n",
    "        该方法定义了你试图访问一个不存在的属性时的行为。\n",
    "        因此，重载该方法可以实现捕获错误拼写然后进行重定向, \n",
    "        或者对一些废弃的属性进行警告。\n",
    "        '''\n",
    "        print('__getattr__')\n",
    "        return super(Access, self).__getattr__(name)\n",
    "\n",
    "    def __setattr__(self, name, value):\n",
    "        ''' \n",
    "        是实现封装的解决方案，它定义了你对属性进行赋值和修改操作时的行为。\n",
    "        不管对象的某个属性是否存在,它都允许你为该属性进行赋值,因此你可以为属性的值进行自定义操作。\n",
    "        有一点需要注意，实现_setattr_时要避免\"无限递归\"的错误，下面的代码示例中会提到。\n",
    "        '''\n",
    "        print('__setattr__')\n",
    "        return super(Access, self).__setattr__(name, value)\n",
    "\n",
    "    def __delattr__(self, name):\n",
    "        print('__delattr__')\n",
    "        return super(Access, self).__delattr__(name)\n",
    "\n",
    "    def __getattribute__(self, name):\n",
    "        #定义了你的属性被访问时的行为\n",
    "        print('__getattribute__')\n",
    "        return super(Access, self).__getattribute__(name)\n",
    "\n",
    "access = Access()\n",
    "access.attr1 = True  # __setattr__调用\n",
    "#access.attr1  # 属性存在,只有__getattribute__调用\n",
    "print(access.attr1)\n",
    "try:\n",
    "    access.attr2  # 属性不存在, 先调用__getattribute__, 后调用__getattr__\n",
    "except AttributeError:\n",
    "    pass\n",
    "del access.attr1  # __delattr__调用"
   ]
  },
  {
   "cell_type": "code",
   "execution_count": 10,
   "metadata": {},
   "outputs": [
    {
     "name": "stdout",
     "output_type": "stream",
     "text": [
      "[]\n"
     ]
    },
    {
     "ename": "AttributeError",
     "evalue": "'Access2' object has no attribute 'c'",
     "output_type": "error",
     "traceback": [
      "\u001b[1;31m---------------------------------------------------------------------------\u001b[0m",
      "\u001b[1;31mAttributeError\u001b[0m                            Traceback (most recent call last)",
      "Cell \u001b[1;32mIn[10], line 7\u001b[0m\n\u001b[0;32m      5\u001b[0m ac\u001b[39m.\u001b[39mb \u001b[39m=\u001b[39m []\n\u001b[0;32m      6\u001b[0m \u001b[39mprint\u001b[39m(ac\u001b[39m.\u001b[39mb)\n\u001b[1;32m----> 7\u001b[0m \u001b[39mprint\u001b[39m(ac\u001b[39m.\u001b[39;49mc)\n",
      "\u001b[1;31mAttributeError\u001b[0m: 'Access2' object has no attribute 'c'"
     ]
    }
   ],
   "source": [
    "class Access2(object):\n",
    "    a = []\n",
    "\n",
    "ac = Access2()\n",
    "ac.b = []\n",
    "print(ac.b)\n",
    "print(ac.c)"
   ]
  },
  {
   "cell_type": "code",
   "execution_count": 31,
   "metadata": {},
   "outputs": [],
   "source": [
    "a = [1,2,3]\n",
    "b_iter = iter(a)"
   ]
  },
  {
   "cell_type": "code",
   "execution_count": 43,
   "metadata": {},
   "outputs": [],
   "source": [
    "a.reverse()\n",
    "b = reversed(a)"
   ]
  },
  {
   "cell_type": "code",
   "execution_count": 38,
   "metadata": {},
   "outputs": [
    {
     "name": "stdout",
     "output_type": "stream",
     "text": [
      "end\n"
     ]
    }
   ],
   "source": [
    "try:\n",
    "    print(next(b_iter))  # 错误用法\n",
    "except StopIteration:\n",
    "    print('end')"
   ]
  },
  {
   "cell_type": "code",
   "execution_count": 53,
   "metadata": {},
   "outputs": [],
   "source": [
    "from copy import *"
   ]
  },
  {
   "cell_type": "code",
   "execution_count": 54,
   "metadata": {},
   "outputs": [
    {
     "data": {
      "text/plain": [
       "[1, 2, 3]"
      ]
     },
     "execution_count": 54,
     "metadata": {},
     "output_type": "execute_result"
    }
   ],
   "source": [
    "deepcopy(a)"
   ]
  }
 ],
 "metadata": {
  "kernelspec": {
   "display_name": "Python 3",
   "language": "python",
   "name": "python3"
  },
  "language_info": {
   "codemirror_mode": {
    "name": "ipython",
    "version": 3
   },
   "file_extension": ".py",
   "mimetype": "text/x-python",
   "name": "python",
   "nbconvert_exporter": "python",
   "pygments_lexer": "ipython3",
   "version": "3.10.10"
  },
  "orig_nbformat": 4
 },
 "nbformat": 4,
 "nbformat_minor": 2
}
