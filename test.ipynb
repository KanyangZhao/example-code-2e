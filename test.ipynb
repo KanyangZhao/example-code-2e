{
 "cells": [
  {
   "cell_type": "code",
   "execution_count": 9,
   "metadata": {},
   "outputs": [
    {
     "name": "stdout",
     "output_type": "stream",
     "text": [
      "__setattr__\n",
      "__getattribute__\n",
      "True\n",
      "__getattribute__\n",
      "__getattr__\n",
      "__delattr__\n"
     ]
    }
   ],
   "source": [
    "class Access(object):\n",
    "\n",
    "    def __getattr__(self, name):\n",
    "        '''\n",
    "        该方法定义了你试图访问一个不存在的属性时的行为。\n",
    "        因此，重载该方法可以实现捕获错误拼写然后进行重定向, \n",
    "        或者对一些废弃的属性进行警告。\n",
    "        '''\n",
    "        print('__getattr__')\n",
    "        return super(Access, self).__getattr__(name)\n",
    "\n",
    "    def __setattr__(self, name, value):\n",
    "        ''' \n",
    "        是实现封装的解决方案，它定义了你对属性进行赋值和修改操作时的行为。\n",
    "        不管对象的某个属性是否存在,它都允许你为该属性进行赋值,因此你可以为属性的值进行自定义操作。\n",
    "        有一点需要注意，实现_setattr_时要避免\"无限递归\"的错误，下面的代码示例中会提到。\n",
    "        '''\n",
    "        print('__setattr__')\n",
    "        return super(Access, self).__setattr__(name, value)\n",
    "\n",
    "    def __delattr__(self, name):\n",
    "        print('__delattr__')\n",
    "        return super(Access, self).__delattr__(name)\n",
    "\n",
    "    def __getattribute__(self, name):\n",
    "        #定义了你的属性被访问时的行为\n",
    "        print('__getattribute__')\n",
    "        return super(Access, self).__getattribute__(name)\n",
    "\n",
    "access = Access()\n",
    "access.attr1 = True  # __setattr__调用\n",
    "#access.attr1  # 属性存在,只有__getattribute__调用\n",
    "print(access.attr1)\n",
    "try:\n",
    "    access.attr2  # 属性不存在, 先调用__getattribute__, 后调用__getattr__\n",
    "except AttributeError:\n",
    "    pass\n",
    "del access.attr1  # __delattr__调用"
   ]
  },
  {
   "cell_type": "code",
   "execution_count": 10,
   "metadata": {},
   "outputs": [
    {
     "name": "stdout",
     "output_type": "stream",
     "text": [
      "[]\n"
     ]
    },
    {
     "ename": "AttributeError",
     "evalue": "'Access2' object has no attribute 'c'",
     "output_type": "error",
     "traceback": [
      "\u001b[1;31m---------------------------------------------------------------------------\u001b[0m",
      "\u001b[1;31mAttributeError\u001b[0m                            Traceback (most recent call last)",
      "Cell \u001b[1;32mIn[10], line 7\u001b[0m\n\u001b[0;32m      5\u001b[0m ac\u001b[39m.\u001b[39mb \u001b[39m=\u001b[39m []\n\u001b[0;32m      6\u001b[0m \u001b[39mprint\u001b[39m(ac\u001b[39m.\u001b[39mb)\n\u001b[1;32m----> 7\u001b[0m \u001b[39mprint\u001b[39m(ac\u001b[39m.\u001b[39;49mc)\n",
      "\u001b[1;31mAttributeError\u001b[0m: 'Access2' object has no attribute 'c'"
     ]
    }
   ],
   "source": [
    "class Access2(object):\n",
    "    a = []\n",
    "\n",
    "ac = Access2()\n",
    "ac.b = []\n",
    "print(ac.b)\n",
    "print(ac.c)"
   ]
  },
  {
   "cell_type": "code",
   "execution_count": 31,
   "metadata": {},
   "outputs": [],
   "source": [
    "a = [1,2,3]\n",
    "b_iter = iter(a)"
   ]
  },
  {
   "cell_type": "code",
   "execution_count": 43,
   "metadata": {},
   "outputs": [],
   "source": [
    "a.reverse()\n",
    "b = reversed(a)"
   ]
  },
  {
   "cell_type": "code",
   "execution_count": 38,
   "metadata": {},
   "outputs": [
    {
     "name": "stdout",
     "output_type": "stream",
     "text": [
      "end\n"
     ]
    }
   ],
   "source": [
    "try:\n",
    "    print(next(b_iter))  # 错误用法\n",
    "except StopIteration:\n",
    "    print('end')"
   ]
  },
  {
   "cell_type": "code",
   "execution_count": 53,
   "metadata": {},
   "outputs": [],
   "source": [
    "from copy import *"
   ]
  },
  {
   "cell_type": "code",
   "execution_count": 54,
   "metadata": {},
   "outputs": [
    {
     "data": {
      "text/plain": [
       "[1, 2, 3]"
      ]
     },
     "execution_count": 54,
     "metadata": {},
     "output_type": "execute_result"
    }
   ],
   "source": [
    "deepcopy(a)"
   ]
  },
  {
   "cell_type": "code",
   "execution_count": 6,
   "metadata": {},
   "outputs": [
    {
     "name": "stdout",
     "output_type": "stream",
     "text": [
      "0.0 0.0\n",
      "1.0 3.2808\n",
      "2.0 6.5616\n"
     ]
    }
   ],
   "source": [
    "class Meter(object):\n",
    "    '''Descriptor for a meter.'''\n",
    "    def __init__(self, value=0.0):\n",
    "        self.value = float(value)\n",
    "    def __get__(self, instance, owner):\n",
    "        return self.value\n",
    "    def __set__(self, instance, value):\n",
    "        self.value = float(value)\n",
    " \n",
    "class Foot(object):\n",
    "    '''Descriptor for a foot.'''\n",
    "    def __get__(self, instance, owner):\n",
    "        return instance.meter * 3.2808\n",
    "    def __set__(self, instance, value):\n",
    "        instance.meter = float(value) / 3.2808\n",
    "\n",
    "class Distance(object):\n",
    "    meter = Meter()\n",
    "    foot = Foot()\n",
    "\n",
    "d = Distance()\n",
    "print(d.meter, d.foot ) # 0.0, 0.0\n",
    "d.meter = 1\n",
    "print(d.meter, d.foot ) # 1.0 3.2808\n",
    "d.meter = 2\n",
    "print(d.meter, d.foot)  # 2.0 6.5616"
   ]
  },
  {
   "cell_type": "code",
   "execution_count": 17,
   "metadata": {},
   "outputs": [],
   "source": [
    "from collections import *\n",
    "from copy import *"
   ]
  },
  {
   "cell_type": "code",
   "execution_count": 10,
   "metadata": {},
   "outputs": [
    {
     "data": {
      "text/plain": [
       "{'1': '2'}"
      ]
     },
     "execution_count": 10,
     "metadata": {},
     "output_type": "execute_result"
    }
   ],
   "source": [
    "a = UserDict([('1', '2')])\n",
    "a"
   ]
  },
  {
   "cell_type": "code",
   "execution_count": 18,
   "metadata": {},
   "outputs": [
    {
     "name": "stdout",
     "output_type": "stream",
     "text": [
      "Hello, Alice!\n",
      "Hello, Bob!\n",
      "Hello, Charlie!\n"
     ]
    }
   ],
   "source": [
    "from typing import List\n",
    " \n",
    "def greet_users(names: List[str]) -> None:\n",
    "    for name in names:\n",
    "        a = copy(name)\n",
    "        print(f\"Hello, {a}!\")\n",
    " \n",
    "# 使用函数\n",
    "greet_users([\"Alice\", \"Bob\", \"Charlie\"])"
   ]
  },
  {
   "cell_type": "code",
   "execution_count": 19,
   "metadata": {},
   "outputs": [
    {
     "data": {
      "text/plain": [
       "{'Alice': None, 'Bob': None, 'Charlie': None}"
      ]
     },
     "execution_count": 19,
     "metadata": {},
     "output_type": "execute_result"
    }
   ],
   "source": [
    "dict.fromkeys([\"Alice\", \"Bob\", \"Charlie\"])"
   ]
  },
  {
   "cell_type": "code",
   "execution_count": 20,
   "metadata": {},
   "outputs": [
    {
     "name": "stdout",
     "output_type": "stream",
     "text": [
      "3.10.10 (tags/v3.10.10:aad5f6a, Feb  7 2023, 17:20:36) [MSC v.1929 64 bit (AMD64)]\n",
      "\n",
      "sys.stdout.isatty(): False\n",
      "sys.stdout.encoding: UTF-8\n",
      "\n",
      "Trying to output HORIZONTAL ELLIPSIS:\n",
      "…\n",
      "Trying to output INFINITY:\n",
      "∞\n",
      "Trying to output CIRCLED NUMBER FORTY TWO:\n",
      "㊷\n"
     ]
    }
   ],
   "source": [
    "import sys\n",
    "from unicodedata import name\n",
    "\n",
    "print(sys.version)\n",
    "print()\n",
    "print('sys.stdout.isatty():', sys.stdout.isatty())\n",
    "print('sys.stdout.encoding:', sys.stdout.encoding)\n",
    "print()\n",
    "\n",
    "test_chars = [\n",
    "    '\\N{HORIZONTAL ELLIPSIS}',       # exists in cp1252, not in cp437\n",
    "    '\\N{INFINITY}',                  # exists in cp437, not in cp1252\n",
    "    '\\N{CIRCLED NUMBER FORTY TWO}',  # not in cp437 or in cp1252\n",
    "]\n",
    "\n",
    "for char in test_chars:\n",
    "    print(f'Trying to output {name(char)}:')\n",
    "    print(char)\n"
   ]
  },
  {
   "cell_type": "code",
   "execution_count": 26,
   "metadata": {},
   "outputs": [
    {
     "data": {
      "text/plain": [
       "'㊷'"
      ]
     },
     "execution_count": 26,
     "metadata": {},
     "output_type": "execute_result"
    }
   ],
   "source": [
    "'\\N{CIRCLED NUMBER FORTY TWO}'"
   ]
  },
  {
   "cell_type": "code",
   "execution_count": 27,
   "metadata": {},
   "outputs": [
    {
     "data": {
      "text/plain": [
       "'a'"
      ]
     },
     "execution_count": 27,
     "metadata": {},
     "output_type": "execute_result"
    }
   ],
   "source": [
    "'A'.casefold()"
   ]
  },
  {
   "cell_type": "code",
   "execution_count": 35,
   "metadata": {},
   "outputs": [
    {
     "data": {
      "text/plain": [
       "c(a=0, b=1, c=2)"
      ]
     },
     "execution_count": 35,
     "metadata": {},
     "output_type": "execute_result"
    }
   ],
   "source": [
    "from collections import *\n",
    "c = namedtuple('c', 'a b c'.split(' '), defaults=[1,2])\n",
    "c(0)\n"
   ]
  },
  {
   "cell_type": "code",
   "execution_count": 32,
   "metadata": {},
   "outputs": [
    {
     "data": {
      "text/plain": [
       "{'b': 1, 'c': 2}"
      ]
     },
     "execution_count": 32,
     "metadata": {},
     "output_type": "execute_result"
    }
   ],
   "source": [
    "c._field_defaults"
   ]
  },
  {
   "cell_type": "code",
   "execution_count": 40,
   "metadata": {},
   "outputs": [
    {
     "name": "stdout",
     "output_type": "stream",
     "text": [
      "Product(name='Laptop', price=0.0, tags=['electronics'], discount=0.1)\n",
      "Product(name='Smartphone', price=999.99, tags=['mobile'], discount=0.0)\n",
      "\n",
      "Latest model\n",
      "0.1\n",
      "0.0\n"
     ]
    }
   ],
   "source": [
    "from dataclasses import dataclass, field\n",
    "\n",
    "@dataclass\n",
    "class Product:\n",
    "    name: str\n",
    "    price: float = field(default=0.0)\n",
    "    tags: list = field(default_factory=list)\n",
    "    description: str = field(default=\"\", repr=False)\n",
    "    discount: float = field(default=0.0, init=False, compare=False)\n",
    "\n",
    "# 创建 Product 实例\n",
    "product1 = Product(name=\"Laptop\")\n",
    "product2 = Product(name=\"Smartphone\", price=999.99, description=\"Latest model\")\n",
    "\n",
    "# 修改和打印属性\n",
    "product1.tags.append(\"electronics\")\n",
    "product2.tags.append(\"mobile\")\n",
    "\n",
    "product1.discount = 0.1\n",
    "\n",
    "print(product1)  # 输出: Product(name='Laptop', price=0.0, tags=['electronics'])\n",
    "print(product2)  # 输出: Product(name='Smartphone', price=999.99, tags=['mobile'])\n",
    "\n",
    "print(product1.description)  # 输出: \"\"\n",
    "print(product2.description)  # 输出: \"Latest model\"\n",
    "\n",
    "print(product1.discount)  # 输出: \"\"\n",
    "print(product2.discount)  # 输出: \"Latest model\""
   ]
  },
  {
   "cell_type": "code",
   "execution_count": 65,
   "metadata": {},
   "outputs": [],
   "source": [
    "from typing import *\n",
    "from dataclasses import *\n",
    "@dataclass\n",
    "class ClubMember:\n",
    "    name: str\n",
    "    guests: list = field(default_factory=list)\n",
    "\n",
    "@dataclass\n",
    "class HackerClubMember(ClubMember):                         # <1>\n",
    "    all_handles: ClassVar[set[str]] = set()                # <2>\n",
    "    handle: str = ''                                        # <3>\n",
    "\n",
    "    def __post_init__(self):\n",
    "        cls = self.__class__                                # <4>\n",
    "        if self.handle == '':                               # <5>\n",
    "            self.handle = self.name.split()[0]\n",
    "        if self.handle in cls.all_handles:                  # <6>\n",
    "            msg = f'handle {self.handle!r} already exists.'\n",
    "            raise ValueError(msg)\n",
    "        cls.all_handles.add(self.handle)                    # <7>\n",
    "\n",
    "@dataclass\n",
    "class HackerClubMember2(ClubMember):                         # <1>\n",
    "    all_handles = set()              # <2>\n",
    "    handle: str = ''                                        # <3>\n",
    "\n",
    "    def __post_init__(self):\n",
    "        cls = self.__class__                                # <4>\n",
    "        if self.handle == '':                               # <5>\n",
    "            self.handle = self.name.split()[0]\n",
    "        if self.handle in cls.all_handles:                  # <6>\n",
    "            msg = f'handle {self.handle!r} already exists.'\n",
    "            raise ValueError(msg)\n",
    "        cls.all_handles.add(self.handle)                    # <7>"
   ]
  },
  {
   "cell_type": "code",
   "execution_count": 62,
   "metadata": {},
   "outputs": [
    {
     "data": {
      "text/plain": [
       "{'AnnaRaven'}"
      ]
     },
     "execution_count": 62,
     "metadata": {},
     "output_type": "execute_result"
    }
   ],
   "source": [
    "anna = HackerClubMember2('Anna Ravenscroft', handle='AnnaRaven')\n",
    "HackerClubMember2.all_handles"
   ]
  },
  {
   "cell_type": "code",
   "execution_count": 81,
   "metadata": {},
   "outputs": [
    {
     "name": "stdout",
     "output_type": "stream",
     "text": [
      "MyClass(x=2, y=3, product=96)\n",
      "False\n"
     ]
    }
   ],
   "source": [
    "@dataclass\n",
    "class MyClass:\n",
    "    x: int\n",
    "    y: int\n",
    "    factor: InitVar[int]  # 仅用于初始化，不会成为实例属性\n",
    "    product: int = field(init=False)  # 不在初始化参数中，由其他逻辑设置\n",
    "\n",
    "    def __post_init__(self, factor):\n",
    "        self.product = self.x * self.y * factor\n",
    "\n",
    "    def __post_init__(self, factor):\n",
    "        self.product = self.x * self.y * factor * 2\n",
    "    \n",
    "    def __post_init__(self, factor):\n",
    "        self.product = self.x * self.y * factor * 4\n",
    "\n",
    "obj = MyClass(x=2, y=3, factor=4)\n",
    "print(obj)\n",
    "#print(obj.product)  # 输出 24 (2 * 3 * 4)\n",
    "print(hasattr(obj, 'factor'))  # 输出 False，说明 factor 不是实例属性\n"
   ]
  },
  {
   "cell_type": "code",
   "execution_count": 2,
   "metadata": {},
   "outputs": [
    {
     "data": {
      "text/plain": [
       "[1, [2, 2]]"
      ]
     },
     "execution_count": 2,
     "metadata": {},
     "output_type": "execute_result"
    }
   ],
   "source": [
    "l1 = [1,[2]]\n",
    "l2 = l1[:]\n",
    "l1[1].append(2)\n",
    "l2"
   ]
  },
  {
   "cell_type": "code",
   "execution_count": 11,
   "metadata": {},
   "outputs": [
    {
     "data": {
      "text/plain": [
       "C(name='A', fid=1)"
      ]
     },
     "execution_count": 11,
     "metadata": {},
     "output_type": "execute_result"
    }
   ],
   "source": [
    "from typing import *\n",
    "from collections import *\n",
    "from decimal import *\n",
    "from abc import *\n",
    "\n",
    "class C(NamedTuple):\n",
    "    name : str\n",
    "    fid : int\n",
    "\n",
    "Customer = C('A', 1)\n",
    "Customer"
   ]
  },
  {
   "cell_type": "code",
   "execution_count": 13,
   "metadata": {},
   "outputs": [
    {
     "data": {
      "text/plain": [
       "typing.Optional[str]"
      ]
     },
     "execution_count": 13,
     "metadata": {},
     "output_type": "execute_result"
    }
   ],
   "source": [
    "Optional[str]"
   ]
  },
  {
   "cell_type": "code",
   "execution_count": 18,
   "metadata": {},
   "outputs": [
    {
     "data": {
      "text/plain": [
       "'11.11%'"
      ]
     },
     "execution_count": 18,
     "metadata": {},
     "output_type": "execute_result"
    }
   ],
   "source": [
    "a = 0.1111\n",
    "f'{a:.2%}'"
   ]
  },
  {
   "cell_type": "code",
   "execution_count": 124,
   "metadata": {},
   "outputs": [
    {
     "name": "stdout",
     "output_type": "stream",
     "text": [
      "Locals inside the method: {'self': <__main__.ExampleClass object at 0x0000026D1D433340>, 'a': 10, 'b': 20, 'c': 30}\n",
      "ExampleClass\n"
     ]
    }
   ],
   "source": [
    "class ExampleClass:\n",
    "    def example_method(self):\n",
    "        a = 10\n",
    "        b = 20\n",
    "        c = a + b\n",
    "        print(\"Locals inside the method:\", locals())\n",
    "        #print(type(self).__name__)\n",
    "    \n",
    "    def __call__(self): #把类变成一个函数\n",
    "        print(type(self).__name__)\n",
    "\n",
    "\n",
    "obj = ExampleClass()\n",
    "obj.example_method()\n",
    "obj()"
   ]
  },
  {
   "cell_type": "code",
   "execution_count": 105,
   "metadata": {},
   "outputs": [
    {
     "name": "stdout",
     "output_type": "stream",
     "text": [
      "10\n",
      "10\n",
      "10\n"
     ]
    }
   ],
   "source": [
    "print(obj.a)\n",
    "print(obj.a)\n",
    "print(obj.a)"
   ]
  },
  {
   "cell_type": "code",
   "execution_count": 107,
   "metadata": {},
   "outputs": [
    {
     "name": "stdout",
     "output_type": "stream",
     "text": [
      "1\n",
      "2\n",
      "3\n"
     ]
    }
   ],
   "source": [
    "class Counter:\n",
    "    def __init__(self):\n",
    "        self.count = 0\n",
    " \n",
    "    def __call__(self):\n",
    "        self.count += 1\n",
    "        return self.count\n",
    " \n",
    "# 创建一个计数器实例\n",
    "counter = Counter()\n",
    " \n",
    "# 调用计数器实例来增加计数\n",
    "print(counter())  # 输出结果：1\n",
    "print(counter())  # 输出结果：2\n",
    "print(counter())  # 输出结果：3"
   ]
  },
  {
   "cell_type": "code",
   "execution_count": 131,
   "metadata": {},
   "outputs": [
    {
     "data": {
      "text/plain": [
       "6"
      ]
     },
     "execution_count": 131,
     "metadata": {},
     "output_type": "execute_result"
    }
   ],
   "source": [
    "7 ^ 2 ^ 5 ^ 6"
   ]
  },
  {
   "cell_type": "code",
   "execution_count": 146,
   "metadata": {},
   "outputs": [
    {
     "data": {
      "text/plain": [
       "2"
      ]
     },
     "execution_count": 146,
     "metadata": {},
     "output_type": "execute_result"
    }
   ],
   "source": [
    "from functools import *\n",
    "import operator\n",
    "reduce(operator.mul, [1,2])"
   ]
  },
  {
   "cell_type": "code",
   "execution_count": 156,
   "metadata": {},
   "outputs": [],
   "source": [
    "from collections import namedtuple, abc\n",
    "\n",
    "Card = namedtuple('Card', ['rank', 'suit'])\n",
    "\n",
    "class FrenchDeck2(abc.MutableSequence):\n",
    "    ranks = [str(n) for n in range(2, 11)] + list('JQKA')\n",
    "    suits = 'spades diamonds clubs hearts'.split()\n",
    "\n",
    "    def __init__(self):\n",
    "        self._cards = [Card(rank, suit) for suit in self.suits\n",
    "                                        for rank in self.ranks]\n",
    "\n",
    "    def __len__(self):\n",
    "        return len(self._cards)\n",
    "\n",
    "    def __getitem__(self, position):\n",
    "        return self._cards[position]\n",
    "\n",
    "    def __setitem__(self, position, value):  # <1>\n",
    "        self._cards[position] = value\n",
    "\n",
    "    def __delitem__(self, position):  # <2>\n",
    "        del self._cards[position]\n",
    "\n",
    "    def insert(self, position, value):  # <3>\n",
    "        self._cards.insert(position, value)\n"
   ]
  },
  {
   "cell_type": "code",
   "execution_count": 163,
   "metadata": {},
   "outputs": [
    {
     "data": {
      "text/plain": [
       "(52, [Card(rank='2', suit='spades'), Card(rank='3', suit='spades')])"
      ]
     },
     "execution_count": 163,
     "metadata": {},
     "output_type": "execute_result"
    }
   ],
   "source": [
    "deck = FrenchDeck2()\n",
    "card = Card(1,2)\n",
    "len(deck), [x for x in deck][:2]"
   ]
  },
  {
   "cell_type": "code",
   "execution_count": 170,
   "metadata": {},
   "outputs": [
    {
     "data": {
      "text/plain": [
       "False"
      ]
     },
     "execution_count": 170,
     "metadata": {},
     "output_type": "execute_result"
    }
   ],
   "source": [
    "callable(deck)"
   ]
  },
  {
   "cell_type": "code",
   "execution_count": 172,
   "metadata": {},
   "outputs": [
    {
     "data": {
      "text/plain": [
       "[1, 2, 3]"
      ]
     },
     "execution_count": 172,
     "metadata": {},
     "output_type": "execute_result"
    }
   ],
   "source": [
    "a = []\n",
    "a.extend((1,2,3))\n",
    "a"
   ]
  },
  {
   "cell_type": "code",
   "execution_count": 180,
   "metadata": {},
   "outputs": [
    {
     "data": {
      "text/plain": [
       "[2, 1, 3]"
      ]
     },
     "execution_count": 180,
     "metadata": {},
     "output_type": "execute_result"
    }
   ],
   "source": []
  },
  {
   "cell_type": "code",
   "execution_count": 183,
   "metadata": {},
   "outputs": [
    {
     "ename": "LookupError",
     "evalue": "pick from empty a",
     "output_type": "error",
     "traceback": [
      "\u001b[1;31m---------------------------------------------------------------------------\u001b[0m",
      "\u001b[1;31mIndexError\u001b[0m                                Traceback (most recent call last)",
      "Cell \u001b[1;32mIn[183], line 7\u001b[0m\n\u001b[0;32m      6\u001b[0m \u001b[39mtry\u001b[39;00m:\n\u001b[1;32m----> 7\u001b[0m     \u001b[39mprint\u001b[39m(a\u001b[39m.\u001b[39;49mpop())\n\u001b[0;32m      8\u001b[0m \u001b[39mexcept\u001b[39;00m \u001b[39mIndexError\u001b[39;00m:\n",
      "\u001b[1;31mIndexError\u001b[0m: pop from empty list",
      "\nDuring handling of the above exception, another exception occurred:\n",
      "\u001b[1;31mLookupError\u001b[0m                               Traceback (most recent call last)",
      "Cell \u001b[1;32mIn[183], line 9\u001b[0m\n\u001b[0;32m      7\u001b[0m     \u001b[39mprint\u001b[39m(a\u001b[39m.\u001b[39mpop())\n\u001b[0;32m      8\u001b[0m \u001b[39mexcept\u001b[39;00m \u001b[39mIndexError\u001b[39;00m:\n\u001b[1;32m----> 9\u001b[0m     \u001b[39mraise\u001b[39;00m \u001b[39mLookupError\u001b[39;00m(\u001b[39m'\u001b[39m\u001b[39mpick from empty a\u001b[39m\u001b[39m'\u001b[39m)\n",
      "\u001b[1;31mLookupError\u001b[0m: pick from empty a"
     ]
    }
   ],
   "source": [
    "import random\n",
    "rand = random.SystemRandom()\n",
    "rand.shuffle(a)\n",
    "\n",
    "while True:\n",
    "    try:\n",
    "        print(a.pop())\n",
    "    except IndexError:\n",
    "        raise LookupError('pick from empty a')"
   ]
  },
  {
   "cell_type": "code",
   "execution_count": 186,
   "metadata": {},
   "outputs": [],
   "source": [
    "def pick(self):  # <5>\n",
    "    try:\n",
    "        return self.pop()\n",
    "    except IndexError:\n",
    "        pass"
   ]
  },
  {
   "cell_type": "code",
   "execution_count": 189,
   "metadata": {},
   "outputs": [],
   "source": [
    "# import random\n",
    "# rand = random.SystemRandom()\n",
    "# rand.shuffle(a)\n",
    "\n",
    "# while True:\n",
    "#     pick(a)"
   ]
  }
 ],
 "metadata": {
  "kernelspec": {
   "display_name": "Python 3",
   "language": "python",
   "name": "python3"
  },
  "language_info": {
   "codemirror_mode": {
    "name": "ipython",
    "version": 3
   },
   "file_extension": ".py",
   "mimetype": "text/x-python",
   "name": "python",
   "nbconvert_exporter": "python",
   "pygments_lexer": "ipython3",
   "version": "3.10.10"
  },
  "orig_nbformat": 4
 },
 "nbformat": 4,
 "nbformat_minor": 2
}
